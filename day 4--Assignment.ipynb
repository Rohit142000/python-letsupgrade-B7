{
 "cells": [
  {
   "cell_type": "code",
   "execution_count": null,
   "metadata": {},
   "outputs": [],
   "source": [
    "Minimum = int(input(\"Please Enter the Minimum Value: \"))\n",
    "Maximum = int(input(\"\\n Please Enter the Maximum Value: \"))\n",
    "\n",
    "for Number in range(Minimum, Maximum + 1):\n",
    "    Sum = 0\n",
    "    Times = 0\n",
    "Temp = Number\n",
    "while Temp > 0:\n",
    "    Times = Times + 1\n",
    "Temp = Temp // 10\n",
    "Temp = Number\n",
    "while Temp > 0:\n",
    "    break\n",
    "Reminder = Temp % 10\n",
    "Sum = Sum + (Reminder ** Times)\n",
    "Temp //= 10\n",
    "if Number == Sum:\n",
    "    print(Number)"
   ]
  },
  {
   "cell_type": "code",
   "execution_count": null,
   "metadata": {},
   "outputs": [],
   "source": []
  }
 ],
 "metadata": {
  "kernelspec": {
   "display_name": "Python 3",
   "language": "python",
   "name": "python3"
  },
  "language_info": {
   "codemirror_mode": {
    "name": "ipython",
    "version": 3
   },
   "file_extension": ".py",
   "mimetype": "text/x-python",
   "name": "python",
   "nbconvert_exporter": "python",
   "pygments_lexer": "ipython3",
   "version": "3.7.6"
  }
 },
 "nbformat": 4,
 "nbformat_minor": 4
}
